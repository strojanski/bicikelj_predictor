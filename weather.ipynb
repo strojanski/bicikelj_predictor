{
 "cells": [
  {
   "cell_type": "code",
   "execution_count": 233,
   "metadata": {},
   "outputs": [],
   "source": [
    "import pandas as pd\n",
    "import numpy as np\n",
    "import datetime"
   ]
  },
  {
   "cell_type": "code",
   "execution_count": 234,
   "metadata": {},
   "outputs": [],
   "source": [
    "weather = pd.read_csv('data/weather.csv')\n",
    "train = pd.read_csv('data/train_processed.csv')\n",
    "test = pd.read_csv('data/test_processed.csv')"
   ]
  },
  {
   "cell_type": "code",
   "execution_count": 235,
   "metadata": {},
   "outputs": [
    {
     "data": {
      "text/plain": [
       "(Index(['name', 'datetime', 'temp', 'feelslike', 'dew', 'humidity', 'precip',\n",
       "        'precipprob', 'preciptype', 'snow', 'snowdepth', 'windgust',\n",
       "        'windspeed', 'winddir', 'sealevelpressure', 'cloudcover', 'visibility',\n",
       "        'solarradiation', 'solarenergy', 'uvindex', 'severerisk', 'conditions',\n",
       "        'icon', 'stations'],\n",
       "       dtype='object'),\n",
       " (1488, 24))"
      ]
     },
     "execution_count": 235,
     "metadata": {},
     "output_type": "execute_result"
    }
   ],
   "source": [
    "train[\"timestamp\"] = pd.to_datetime(train[\"timestamp\"])\n",
    "test[\"timestamp\"] = pd.to_datetime(test[\"timestamp\"])\n",
    "weather.columns, weather.shape"
   ]
  },
  {
   "cell_type": "code",
   "execution_count": 236,
   "metadata": {},
   "outputs": [
    {
     "data": {
      "text/plain": [
       "numpy.float64"
      ]
     },
     "execution_count": 236,
     "metadata": {},
     "output_type": "execute_result"
    }
   ],
   "source": [
    "type(weather[\"temp\"][0])"
   ]
  },
  {
   "cell_type": "code",
   "execution_count": 237,
   "metadata": {},
   "outputs": [],
   "source": [
    "weather[\"datetime\"] = pd.to_datetime(weather[\"datetime\"])"
   ]
  },
  {
   "cell_type": "code",
   "execution_count": 238,
   "metadata": {},
   "outputs": [
    {
     "data": {
      "text/plain": [
       "array(['Rain, Partially cloudy', 'Partially cloudy', 'Rain, Overcast',\n",
       "       'Overcast', 'Clear', 'Rain', 'Rain, Fog'], dtype=object)"
      ]
     },
     "execution_count": 238,
     "metadata": {},
     "output_type": "execute_result"
    }
   ],
   "source": [
    "unique_conditions = weather[\"conditions\"].unique()\n",
    "unique_conditions"
   ]
  },
  {
   "cell_type": "code",
   "execution_count": 239,
   "metadata": {},
   "outputs": [],
   "source": [
    "def get_weather_row(weather_df, bike_timestamp):\n",
    "    timestamp = np.datetime64(bike_timestamp)\n",
    "    bike_datetime = timestamp.astype(datetime.datetime)\n",
    "    \n",
    "    # Get row with the same month, day, hour\n",
    "    row = weather_df.loc[abs(weather_df[\"datetime\"] - bike_datetime) < datetime.timedelta(hours=1)]\n",
    "    if len(row) > 1:\n",
    "        row = row.iloc[0]\n",
    "    return row\n"
   ]
  },
  {
   "cell_type": "code",
   "execution_count": 240,
   "metadata": {},
   "outputs": [],
   "source": [
    "def get_preciptype(weather_df, bike_timestamp):\n",
    "    row = get_weather_row(weather_df, bike_timestamp)\n",
    "    precip = row[\"preciptype\"]\n",
    "    if type(precip) == str and precip == \"rain\":\n",
    "        return 1\n",
    "    else:\n",
    "        return 0"
   ]
  },
  {
   "cell_type": "code",
   "execution_count": 241,
   "metadata": {},
   "outputs": [],
   "source": [
    "def get_conditions(weather_df, bike_timestamp):\n",
    "    # 1 means bad weather, 0 means good weather\n",
    "    \n",
    "    row = get_weather_row(weather_df, bike_timestamp)\n",
    "    conditions = row[\"conditions\"]\n",
    "    \n",
    "    if type(conditions) != str:\n",
    "        return 0\n",
    "    \n",
    "    \n",
    "    if conditions == \"Rain, Partially cloudy\" or conditions == \"Rain\" or conditions == \"Rain, Fog\":\n",
    "        return 1\n",
    "    else:\n",
    "        return 0"
   ]
  },
  {
   "cell_type": "code",
   "execution_count": 250,
   "metadata": {},
   "outputs": [],
   "source": [
    "def get_temp(weather_df, bike_timestamp):\n",
    "    row = get_weather_row(weather_df, bike_timestamp)\n",
    "    \n",
    "    temp = row[\"temp\"] \n",
    "    \n",
    "    if type(temp) != np.float64:\n",
    "        return np.mean(weather_df[\"temp\"]) // 10\n",
    "\n",
    "    return temp // 10"
   ]
  },
  {
   "cell_type": "code",
   "execution_count": 245,
   "metadata": {},
   "outputs": [
    {
     "data": {
      "text/plain": [
       "0"
      ]
     },
     "execution_count": 245,
     "metadata": {},
     "output_type": "execute_result"
    }
   ],
   "source": [
    "row = get_weather_row(weather, train[\"timestamp\"][17])\n",
    "precip = get_preciptype(weather, train[\"timestamp\"][17])\n",
    "precip"
   ]
  },
  {
   "cell_type": "code",
   "execution_count": 246,
   "metadata": {},
   "outputs": [],
   "source": [
    "# test[\"rain\"] = test[\"timestamp\"].apply(lambda x: get_preciptype(weather, x))\n",
    "# train[\"rain\"] = train[\"timestamp\"].apply(lambda x: get_preciptype(weather, x))"
   ]
  },
  {
   "cell_type": "code",
   "execution_count": 247,
   "metadata": {},
   "outputs": [],
   "source": [
    "# test[\"rain_condition\"] = test[\"timestamp\"].apply(lambda x: get_conditions(weather, x))\n",
    "# train[\"rain_condition\"] = train[\"timestamp\"].apply(lambda x: get_conditions(weather, x))"
   ]
  },
  {
   "cell_type": "code",
   "execution_count": 251,
   "metadata": {},
   "outputs": [],
   "source": [
    "test[\"temp\"] = test[\"timestamp\"].apply(lambda x: get_temp(weather, x))\n",
    "train[\"temp\"] = train[\"timestamp\"].apply(lambda x: get_temp(weather, x))"
   ]
  },
  {
   "cell_type": "code",
   "execution_count": 252,
   "metadata": {},
   "outputs": [
    {
     "data": {
      "text/html": [
       "<div>\n",
       "<style scoped>\n",
       "    .dataframe tbody tr th:only-of-type {\n",
       "        vertical-align: middle;\n",
       "    }\n",
       "\n",
       "    .dataframe tbody tr th {\n",
       "        vertical-align: top;\n",
       "    }\n",
       "\n",
       "    .dataframe thead th {\n",
       "        text-align: right;\n",
       "    }\n",
       "</style>\n",
       "<table border=\"1\" class=\"dataframe\">\n",
       "  <thead>\n",
       "    <tr style=\"text-align: right;\">\n",
       "      <th></th>\n",
       "      <th>timestamp</th>\n",
       "      <th>PREŠERNOV TRG-PETKOVŠKOVO NABREŽJE</th>\n",
       "      <th>POGAČARJEV TRG-TRŽNICA</th>\n",
       "      <th>KONGRESNI TRG-ŠUBIČEVA ULICA</th>\n",
       "      <th>CANKARJEVA UL.-NAMA</th>\n",
       "      <th>BREG</th>\n",
       "      <th>GRUDNOVO NABREŽJE-KARLOVŠKA C.</th>\n",
       "      <th>MIKLOŠIČEV PARK</th>\n",
       "      <th>BAVARSKI DVOR</th>\n",
       "      <th>TRG OF-KOLODVORSKA UL.</th>\n",
       "      <th>...</th>\n",
       "      <th>hour_19</th>\n",
       "      <th>hour_20</th>\n",
       "      <th>hour_21</th>\n",
       "      <th>hour_22</th>\n",
       "      <th>hour_23</th>\n",
       "      <th>is_weekend</th>\n",
       "      <th>is_night</th>\n",
       "      <th>rain</th>\n",
       "      <th>rain_condition</th>\n",
       "      <th>temp</th>\n",
       "    </tr>\n",
       "  </thead>\n",
       "  <tbody>\n",
       "    <tr>\n",
       "      <th>0</th>\n",
       "      <td>2022-08-02 15:00:00</td>\n",
       "      <td>19</td>\n",
       "      <td>8</td>\n",
       "      <td>11</td>\n",
       "      <td>18</td>\n",
       "      <td>14</td>\n",
       "      <td>8</td>\n",
       "      <td>17</td>\n",
       "      <td>4</td>\n",
       "      <td>18</td>\n",
       "      <td>...</td>\n",
       "      <td>0</td>\n",
       "      <td>0</td>\n",
       "      <td>0</td>\n",
       "      <td>0</td>\n",
       "      <td>0</td>\n",
       "      <td>0</td>\n",
       "      <td>0</td>\n",
       "      <td>0</td>\n",
       "      <td>0</td>\n",
       "      <td>1.0</td>\n",
       "    </tr>\n",
       "    <tr>\n",
       "      <th>1</th>\n",
       "      <td>2022-08-02 15:05:00</td>\n",
       "      <td>16</td>\n",
       "      <td>7</td>\n",
       "      <td>10</td>\n",
       "      <td>15</td>\n",
       "      <td>15</td>\n",
       "      <td>9</td>\n",
       "      <td>16</td>\n",
       "      <td>4</td>\n",
       "      <td>12</td>\n",
       "      <td>...</td>\n",
       "      <td>0</td>\n",
       "      <td>0</td>\n",
       "      <td>0</td>\n",
       "      <td>0</td>\n",
       "      <td>0</td>\n",
       "      <td>0</td>\n",
       "      <td>0</td>\n",
       "      <td>0</td>\n",
       "      <td>0</td>\n",
       "      <td>2.0</td>\n",
       "    </tr>\n",
       "    <tr>\n",
       "      <th>2</th>\n",
       "      <td>2022-08-02 15:10:00</td>\n",
       "      <td>16</td>\n",
       "      <td>8</td>\n",
       "      <td>8</td>\n",
       "      <td>9</td>\n",
       "      <td>14</td>\n",
       "      <td>8</td>\n",
       "      <td>13</td>\n",
       "      <td>6</td>\n",
       "      <td>15</td>\n",
       "      <td>...</td>\n",
       "      <td>0</td>\n",
       "      <td>0</td>\n",
       "      <td>0</td>\n",
       "      <td>0</td>\n",
       "      <td>0</td>\n",
       "      <td>0</td>\n",
       "      <td>0</td>\n",
       "      <td>0</td>\n",
       "      <td>0</td>\n",
       "      <td>2.0</td>\n",
       "    </tr>\n",
       "    <tr>\n",
       "      <th>3</th>\n",
       "      <td>2022-08-02 15:15:00</td>\n",
       "      <td>19</td>\n",
       "      <td>8</td>\n",
       "      <td>8</td>\n",
       "      <td>8</td>\n",
       "      <td>14</td>\n",
       "      <td>7</td>\n",
       "      <td>13</td>\n",
       "      <td>6</td>\n",
       "      <td>17</td>\n",
       "      <td>...</td>\n",
       "      <td>0</td>\n",
       "      <td>0</td>\n",
       "      <td>0</td>\n",
       "      <td>0</td>\n",
       "      <td>0</td>\n",
       "      <td>0</td>\n",
       "      <td>0</td>\n",
       "      <td>0</td>\n",
       "      <td>0</td>\n",
       "      <td>2.0</td>\n",
       "    </tr>\n",
       "    <tr>\n",
       "      <th>4</th>\n",
       "      <td>2022-08-02 15:25:00</td>\n",
       "      <td>18</td>\n",
       "      <td>5</td>\n",
       "      <td>5</td>\n",
       "      <td>1</td>\n",
       "      <td>14</td>\n",
       "      <td>4</td>\n",
       "      <td>12</td>\n",
       "      <td>4</td>\n",
       "      <td>18</td>\n",
       "      <td>...</td>\n",
       "      <td>0</td>\n",
       "      <td>0</td>\n",
       "      <td>0</td>\n",
       "      <td>0</td>\n",
       "      <td>0</td>\n",
       "      <td>0</td>\n",
       "      <td>0</td>\n",
       "      <td>0</td>\n",
       "      <td>0</td>\n",
       "      <td>2.0</td>\n",
       "    </tr>\n",
       "  </tbody>\n",
       "</table>\n",
       "<p>5 rows × 292 columns</p>\n",
       "</div>"
      ],
      "text/plain": [
       "            timestamp  PREŠERNOV TRG-PETKOVŠKOVO NABREŽJE  \\\n",
       "0 2022-08-02 15:00:00                                  19   \n",
       "1 2022-08-02 15:05:00                                  16   \n",
       "2 2022-08-02 15:10:00                                  16   \n",
       "3 2022-08-02 15:15:00                                  19   \n",
       "4 2022-08-02 15:25:00                                  18   \n",
       "\n",
       "   POGAČARJEV TRG-TRŽNICA  KONGRESNI TRG-ŠUBIČEVA ULICA  CANKARJEVA UL.-NAMA  \\\n",
       "0                       8                            11                   18   \n",
       "1                       7                            10                   15   \n",
       "2                       8                             8                    9   \n",
       "3                       8                             8                    8   \n",
       "4                       5                             5                    1   \n",
       "\n",
       "   BREG  GRUDNOVO NABREŽJE-KARLOVŠKA C.  MIKLOŠIČEV PARK  BAVARSKI DVOR  \\\n",
       "0    14                               8               17              4   \n",
       "1    15                               9               16              4   \n",
       "2    14                               8               13              6   \n",
       "3    14                               7               13              6   \n",
       "4    14                               4               12              4   \n",
       "\n",
       "   TRG OF-KOLODVORSKA UL.  ...  hour_19  hour_20  hour_21  hour_22  hour_23  \\\n",
       "0                      18  ...        0        0        0        0        0   \n",
       "1                      12  ...        0        0        0        0        0   \n",
       "2                      15  ...        0        0        0        0        0   \n",
       "3                      17  ...        0        0        0        0        0   \n",
       "4                      18  ...        0        0        0        0        0   \n",
       "\n",
       "   is_weekend  is_night  rain  rain_condition  temp  \n",
       "0           0         0     0               0   1.0  \n",
       "1           0         0     0               0   2.0  \n",
       "2           0         0     0               0   2.0  \n",
       "3           0         0     0               0   2.0  \n",
       "4           0         0     0               0   2.0  \n",
       "\n",
       "[5 rows x 292 columns]"
      ]
     },
     "execution_count": 252,
     "metadata": {},
     "output_type": "execute_result"
    }
   ],
   "source": [
    "train.head()"
   ]
  },
  {
   "cell_type": "code",
   "execution_count": 230,
   "metadata": {},
   "outputs": [],
   "source": [
    "train.to_csv(\"data/train_processed.csv\", index=False)\n",
    "test.to_csv(\"data/test_processed.csv\", index=False)"
   ]
  },
  {
   "attachments": {},
   "cell_type": "markdown",
   "metadata": {},
   "source": [
    "##### Get school holidays, one-hot encode days of week"
   ]
  }
 ],
 "metadata": {
  "kernelspec": {
   "display_name": "torch",
   "language": "python",
   "name": "python3"
  },
  "language_info": {
   "codemirror_mode": {
    "name": "ipython",
    "version": 3
   },
   "file_extension": ".py",
   "mimetype": "text/x-python",
   "name": "python",
   "nbconvert_exporter": "python",
   "pygments_lexer": "ipython3",
   "version": "3.9.16"
  },
  "orig_nbformat": 4
 },
 "nbformat": 4,
 "nbformat_minor": 2
}
