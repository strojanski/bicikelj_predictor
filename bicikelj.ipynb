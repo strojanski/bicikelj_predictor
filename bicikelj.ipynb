{
 "cells": [
  {
   "cell_type": "code",
   "execution_count": 9,
   "metadata": {},
   "outputs": [],
   "source": [
    "import numpy as np\n",
    "import pandas as pd\n",
    "import matplotlib.pyplot as plt\n",
    "import datetime\n",
    "\n",
    "import torch\n",
    "from torch import nn"
   ]
  },
  {
   "cell_type": "code",
   "execution_count": 10,
   "metadata": {},
   "outputs": [],
   "source": [
    "import warnings\n",
    "\n",
    "# suppress all warnings\n",
    "warnings.filterwarnings(\"ignore\")"
   ]
  },
  {
   "cell_type": "code",
   "execution_count": 11,
   "metadata": {},
   "outputs": [],
   "source": [
    "device = \"cuda\" if torch.cuda.is_available() else \"mps\" if torch.backends.mps.is_available() else \"cpu\""
   ]
  },
  {
   "cell_type": "code",
   "execution_count": 12,
   "metadata": {},
   "outputs": [],
   "source": [
    "# Build a linear regression model\n",
    "class LinearRegression(nn.Module):\n",
    "    def __init__(self, input_size, output_size):\n",
    "        super().__init__()\n",
    "        self.linear = nn.Linear(input_size, output_size, device=\"cuda\")\n",
    "    \n",
    "    def forward(self, x):\n",
    "        return self.linear(x)"
   ]
  },
  {
   "cell_type": "code",
   "execution_count": 13,
   "metadata": {},
   "outputs": [],
   "source": [
    "def datetime64_to_unix(timestamp):\n",
    "\n",
    "    unix_epoch = np.datetime64('1970-01-01T00:00:00Z')\n",
    "    \n",
    "    # Calculate the difference in seconds between the timestamp and Unix epoch\n",
    "    seconds = (timestamp - unix_epoch) / np.timedelta64(1, 's')\n",
    "    \n",
    "    return pd.Series(seconds)\n",
    "\n",
    "\n",
    "def unix_to_datetime64(unix_timestamp):\n",
    "\n",
    "    unix_epoch = np.datetime64('1970-01-01T00:00:00Z')\n",
    "    \n",
    "    # Calculate the timedelta from the Unix timestamp in seconds\n",
    "    timedelta = pd.to_timedelta(unix_timestamp, unit='s')\n",
    "    \n",
    "    # Add the timedelta to the Unix epoch to get the resulting datetime64 objects\n",
    "    timestamp = unix_epoch + timedelta\n",
    "    \n",
    "    return pd.Series(timestamp)\n"
   ]
  },
  {
   "cell_type": "code",
   "execution_count": 14,
   "metadata": {},
   "outputs": [],
   "source": [
    "def plot_loss(epochs, train_losses, test_losses=None):\n",
    "    plt.plot(epochs, train_losses, label=\"Train loss\")\n",
    "    if test_losses is not None:\n",
    "        plt.plot(epochs, test_losses, label=\"Test loss\")\n",
    "    plt.ylabel(\"Loss\")\n",
    "    plt.xlabel(\"Epochs\")\n",
    "    plt.legend()\n",
    "    plt.show()"
   ]
  },
  {
   "cell_type": "code",
   "execution_count": 15,
   "metadata": {},
   "outputs": [],
   "source": [
    "def plot_bikes(train_df: pd.DataFrame, n_stations = 5, stations: list = None, random_state=42, howmany=100):\n",
    "    times = train_df[\"timestamp\"]\n",
    "    stations_to_plot = None\n",
    "        \n",
    "    if stations is not None:\n",
    "        stations_to_plot = train_df.loc(stations)\n",
    "    elif n_stations is not None:\n",
    "        stations_to_plot = train_df.drop(\"timestamp\", axis=1).sample(n_stations, random_state=random_state, axis=1)\n",
    "        \n",
    "    fig, ax = plt.subplots(figsize=(20, 10))    \n",
    "    \n",
    "    print(stations_to_plot.shape)\n",
    "    for station in stations_to_plot:\n",
    "        ax.plot(times[:howmany], stations_to_plot[station].values[:howmany], label=station)\n",
    "        \n",
    "    ax.set_xlabel('Days')\n",
    "    ax.set_ylabel('Number of bikes')\n",
    "    ax.set_title('Time Series Data')\n",
    "    ax.legend()\n",
    "    \n"
   ]
  },
  {
   "cell_type": "code",
   "execution_count": 16,
   "metadata": {},
   "outputs": [],
   "source": [
    "# plot_bikes(train, n_stations=5, howmany=200)"
   ]
  },
  {
   "cell_type": "code",
   "execution_count": 17,
   "metadata": {},
   "outputs": [],
   "source": [
    "# Get list of stations\n",
    "stations = []\n",
    "for i in range(1, 84):\n",
    "    stations.append(train.columns[i])"
   ]
  },
  {
   "cell_type": "code",
   "execution_count": 18,
   "metadata": {},
   "outputs": [],
   "source": [
    "# def get_shifted_rows(df, timestamp, timediff, station):\n",
    "#     shifted_timestamp = timestamp - pd.DateOffset(hours=timediff)\n",
    "#     shifted_row = df.loc[df['timestamp'] == shifted_timestamp, station]\n",
    "#     return shifted_row.values[0] if not shifted_row.empty else 0\n",
    "\n",
    "# for station in stations:\n",
    "#     train[f\"{station}_1hr\"] = train.apply(lambda row: get_shifted_rows(train, row['timestamp'], 1, station), axis=1)\n",
    "#     train[f\"{station}_2hr\"] = train.apply(lambda row: get_shifted_rows(train, row['timestamp'], 2, station), axis=1)\n"
   ]
  },
  {
   "cell_type": "code",
   "execution_count": 19,
   "metadata": {},
   "outputs": [],
   "source": [
    "# train = pd.read_csv(\"data/processed_data.csv\")\n",
    "# train.to_csv(\"data/processed_data.csv\", index=False)"
   ]
  },
  {
   "cell_type": "code",
   "execution_count": 20,
   "metadata": {},
   "outputs": [],
   "source": [
    "# Add new features to train\n",
    "# train['month'], train['day'], train['hour'], train['minute'], train['day_of_week'], train['is_holiday'] = zip(*train['timestamp'].map(get_time_based_features))"
   ]
  },
  {
   "cell_type": "code",
   "execution_count": 21,
   "metadata": {},
   "outputs": [],
   "source": [
    "# One hot encode days of week and hours\n",
    "# days_of_week = [\"monday\", \"tuesday\", \"wednesday\", \"thursday\", \"friday\", \"saturday\", \"sunday\"]\n",
    "\n",
    "# for i, day in enumerate(days_of_week):\n",
    "#     train[day] = (train[\"day_of_week\"] == i).astype(int)\n",
    "\n",
    "\n",
    "# hours = [i for i in range(24)]\n",
    "# for i in hours:\n",
    "#     train[f\"hour_{i}\"] = (train[\"hour\"] == i).astype(int)"
   ]
  },
  {
   "attachments": {},
   "cell_type": "markdown",
   "metadata": {},
   "source": [
    "### Models and data\n",
    "For each station, get the following columns:\n",
    "- timestamp\n",
    "- month\n",
    "- day\n",
    "- hour\n",
    "- minute\n",
    "- n_bikes_1h\n",
    "- n_bikes_2h\n",
    "- is_holiday\n",
    "- day_of_week\n"
   ]
  },
  {
   "cell_type": "code",
   "execution_count": 22,
   "metadata": {},
   "outputs": [],
   "source": [
    "# One hot encode day of week \n",
    "# train = pd.get_dummies(train, columns=['day_of_week'])"
   ]
  },
  {
   "cell_type": "code",
   "execution_count": 6,
   "metadata": {},
   "outputs": [],
   "source": [
    "train = pd.read_csv(\"data/train_processed.csv\")\n",
    "test = pd.read_csv(\"data/test_processed.csv\")"
   ]
  },
  {
   "cell_type": "code",
   "execution_count": 23,
   "metadata": {},
   "outputs": [],
   "source": [
    "train_station_dataframes = {}\n",
    "test_station_dataframes = {}\n",
    "\n",
    "for station in stations:\n",
    "            \n",
    "    for n in range(2):\n",
    "        if n == 0:\n",
    "            dataframe = train\n",
    "        else:\n",
    "            dataframe = test\n",
    "        station_df = pd.DataFrame({\n",
    "            \"timestamp\": dataframe[\"timestamp\"].values,\n",
    "            \"n_bikes\": dataframe[station].values,\n",
    "            \"month\": dataframe[\"month\"].values,\n",
    "            \"day\": dataframe[\"day\"].values,\n",
    "            \"hour\": dataframe[\"hour\"].values,\n",
    "            \"minute\": dataframe[\"minute\"].values,\n",
    "            \"day_of_week\": dataframe[\"day_of_week\"].values,\n",
    "            \"is_holiday\": dataframe[\"is_holiday\"].values,\n",
    "            \"n_bikes_1hr\": dataframe[f\"{station}_1hr\"].values,\n",
    "            \"n_bikes_2hr\": dataframe[f\"{station}_2hr\"].values\n",
    "        })\n",
    "        \n",
    "        days_of_week = [\"monday\", \"tuesday\", \"wednesday\", \"thursday\", \"friday\", \"saturday\", \"sunday\"]\n",
    "\n",
    "        for i, day in enumerate(days_of_week):\n",
    "            station_df[day] = dataframe[day].values\n",
    "\n",
    "\n",
    "        hours = [i for i in range(24)]\n",
    "        for i in hours:\n",
    "            station_df[f\"hour_{i}\"] = dataframe[f\"hour_{i}\"].values   \n",
    "            \n",
    "        if n == 0:    \n",
    "            train_station_dataframes[station] = station_df\n",
    "        else: test_station_dataframes[station] = station_df\n"
   ]
  },
  {
   "cell_type": "code",
   "execution_count": 24,
   "metadata": {},
   "outputs": [],
   "source": [
    "def model_test(X_test, y_test, model, loss_fn, epoch, test_losses: list = None):\n",
    "    model.eval()\n",
    "    with torch.inference_mode():\n",
    "        test_pred = model(X_test.to(device))\n",
    "        test_loss = loss_fn(test_pred, y_test.to(device))\n",
    "        \n",
    "        if epoch % 100 == 0:\n",
    "            if test_losses is not None:\n",
    "                test_losses.append(test_loss.cpu().numpy())\n",
    "   \n",
    "            print(f\"Test loss: {test_loss.cpu().detach().numpy()}\")\n",
    "            \n",
    "    return test_losses\n",
    "\n",
    "# Training loop\n",
    "def model_train(X_train, X_test, y_train, y_test, model, loss_fn, optimizer, epochs=10, epochs_list: list = None, train_losses: list = None, test_losses: list = None, scheduler=None):\n",
    "    for epoch in range(epochs):\n",
    "        model.train()   # Set mode\n",
    "        \n",
    "        # Forward pass and loss\n",
    "        y_pred = model(X_train.to(device))\n",
    "        train_loss = loss_fn(y_pred, y_train.to(device))\n",
    "        \n",
    "        # Backward pass and optimization\n",
    "        optimizer.zero_grad()\n",
    "        train_loss.backward()\n",
    "        optimizer.step()\n",
    "        \n",
    "        test_losses = model_test(X_test, y_test, model, loss_fn, epoch, test_losses)\n",
    "        \n",
    "        if epoch % 100 == 0:\n",
    "            train_losses.append(train_loss.cpu().detach().numpy())\n",
    "            epochs_list.append(epoch)\n",
    "\n",
    "            print(f\"Epoch: {epoch}, Train loss: {train_loss.cpu().detach().numpy()}\")\n",
    "        if scheduler is not None:\n",
    "            scheduler.step()\n",
    "    return epochs_list, train_losses, test_losses\n",
    "        "
   ]
  },
  {
   "cell_type": "code",
   "execution_count": 27,
   "metadata": {},
   "outputs": [],
   "source": [
    "from sklearn.model_selection import train_test_split\n",
    "from sklearn.metrics import r2_score\n",
    "from sklearn import linear_model\n",
    "from sklearn.metrics import mean_squared_error"
   ]
  },
  {
   "cell_type": "code",
   "execution_count": 28,
   "metadata": {},
   "outputs": [
    {
     "ename": "NameError",
     "evalue": "name 'X' is not defined",
     "output_type": "error",
     "traceback": [
      "\u001b[1;31m---------------------------------------------------------------------------\u001b[0m",
      "\u001b[1;31mNameError\u001b[0m                                 Traceback (most recent call last)",
      "Cell \u001b[1;32mIn[28], line 1\u001b[0m\n\u001b[1;32m----> 1\u001b[0m X_train, X_test, y_train, y_test \u001b[39m=\u001b[39m train_test_split(X, y, shuffle\u001b[39m=\u001b[39m\u001b[39mFalse\u001b[39;00m, test_size\u001b[39m=\u001b[39m\u001b[39m0.2\u001b[39m)\n\u001b[0;32m      3\u001b[0m n_epochs \u001b[39m=\u001b[39m \u001b[39m10000\u001b[39m\n\u001b[0;32m      5\u001b[0m X_train \u001b[39m=\u001b[39m torch\u001b[39m.\u001b[39mtensor(np\u001b[39m.\u001b[39marray(X_train), dtype\u001b[39m=\u001b[39mtorch\u001b[39m.\u001b[39mfloat32)\n",
      "\u001b[1;31mNameError\u001b[0m: name 'X' is not defined"
     ]
    }
   ],
   "source": [
    "for station in stations:\n",
    "    station_df = train_station_dataframes[station]\n",
    "    \n",
    "    X = station_df.drop([\"timestamp\", \"n_bikes\"], axis=1)\n",
    "    y = station_df[\"n_bikes\"]\n",
    "    \n",
    "X_train, X_test, y_train, y_test = train_test_split(X, y, shuffle=False, test_size=0.2)\n",
    "\n",
    "n_epochs = 10000\n",
    "\n",
    "X_train = torch.tensor(np.array(X_train), dtype=torch.float32)\n",
    "y_train = torch.tensor(np.array(y_train), dtype=torch.float32)\n",
    "X_test = torch.tensor(np.array(X_test), dtype=torch.float32)\n",
    "y_test = torch.tensor(np.array(y_test), dtype=torch.float32)\n",
    "\n",
    "# y_train = y_train.unsqueeze(1)\n",
    "# y_test = y_test.unsqueeze(1)\n",
    "\n",
    "# Element-wise multiplication\n",
    "# y_train = torch.mul(X_train, y_train)\n",
    "# y_test = torch.mul(X_test, y_test)\n",
    "\n",
    "X_train.shape, y_train.shape, X_test.shape, y_test.shape"
   ]
  },
  {
   "cell_type": "code",
   "execution_count": 177,
   "metadata": {},
   "outputs": [],
   "source": [
    "def linear_regression(X_train, X_test, y_train, y_test=None):\n",
    "        # Fit model\n",
    "    lr = linear_model.Ridge() #Lasso()\n",
    "    # lr = linear_model.LinearRegression()\n",
    "    lr.fit(X_train, y_train)\n",
    "    \n",
    "    coefs = lr.coef_\n",
    "    \n",
    "    for i in range(len(coefs)):\n",
    "        if coefs[i] == 0:\n",
    "            print(f\"Removed {X.columns[i]}\")\n",
    "        # else:\n",
    "        #     print(f\"{(X[i])}: {lr.coef_[i]}\")\n",
    "    \n",
    "    # Predict and score\n",
    "    y_pred = lr.predict(X_test)\n",
    "    \n",
    "    # plt.scatter(y_test, y_pred)\n",
    "    \n",
    "    # score = mean_squared_error(y_test, y_pred)\n",
    "    return lr, y_pred\n",
    "\n",
    "# lr, score = linear_regression(X_train, X_test, y_train, y_test)\n",
    "# print(score)"
   ]
  },
  {
   "cell_type": "code",
   "execution_count": 185,
   "metadata": {},
   "outputs": [
    {
     "name": "stdout",
     "output_type": "stream",
     "text": [
      "sunday 800408639858.2814\n",
      "saturday 513121527949.7673\n",
      "friday 225834416038.4086\n",
      "hour_23 56290846477.62947\n",
      "hour_22 54671600317.322975\n",
      "hour_21 53052354158.70829\n",
      "hour_20 51433107998.27214\n",
      "hour_19 49813861836.385605\n",
      "hour_18 48194615672.89089\n",
      "hour_17 46575369509.39435\n",
      "hour_16 44956123347.409744\n",
      "hour_15 43336877186.59677\n",
      "hour_14 41717631027.739075\n",
      "hour_13 40098384867.24716\n",
      "hour_12 38479138705.464584\n",
      "hour_11 36859892543.432915\n",
      "hour_10 35240646379.52926\n",
      "hour_9 33621400215.67355\n",
      "hour_8 32002154052.412582\n",
      "hour_7 30382907889.01822\n",
      "hour_6 28763661724.90878\n",
      "hour_5 27144415562.427887\n",
      "hour_4 25525169400.346256\n",
      "hour_3 23905923238.329006\n",
      "hour_2 22286677076.312057\n",
      "hour_1 20667430914.24564\n",
      "hour_0 19048184752.023182\n",
      "is_holiday 0.6862177942081069\n",
      "n_bikes_1hr 0.3720604926647855\n",
      "n_bikes_2hr 0.0592982079498825\n",
      "minute -0.0004884241499156132\n",
      "day -0.021078939882399284\n",
      "month -0.8735100501795441\n",
      "hour -1619246161.9647639\n",
      "thursday -61452695871.37398\n",
      "day_of_week -287287111910.3016\n",
      "wednesday -348739807781.7122\n",
      "tuesday -636026919692.7744\n",
      "monday -923314031602.7736\n",
      "sunday 996752373084.7278\n",
      "saturday 662921704515.6041\n",
      "friday 329091035946.1386\n",
      "hour_23 68987450537.4248\n",
      "hour_22 66581361664.371635\n",
      "hour_21 64175272792.261086\n",
      "hour_20 61769183919.08935\n",
      "hour_19 59363095044.6214\n",
      "hour_18 56957006168.808495\n",
      "hour_17 54550917293.54291\n",
      "hour_16 52144828418.5667\n",
      "hour_15 49738739545.072685\n",
      "hour_14 47332650673.48571\n",
      "hour_13 44926561800.91931\n",
      "hour_12 42520472927.23589\n",
      "hour_11 40114384052.73214\n",
      "hour_10 37708295178.15976\n",
      "hour_9 35302206303.25796\n",
      "hour_8 32896117427.524998\n",
      "hour_7 30490028551.07239\n",
      "hour_6 28083939673.619263\n",
      "hour_5 25677850798.871956\n",
      "hour_4 23271761924.395157\n",
      "hour_3 20865673050.138195\n",
      "hour_2 18459584175.65056\n",
      "hour_1 16053495300.903502\n",
      "hour_0 13647406426.733961\n",
      "is_holiday 1.6984995209956515\n",
      "n_bikes_1hr 0.37162984288083256\n",
      "n_bikes_2hr 0.12059938382753028\n",
      "day 0.03522836310155697\n",
      "minute 0.0011142705129056733\n",
      "month -0.1361869999384051\n",
      "hour -2406088874.3534217\n",
      "thursday -4739632627.637207\n",
      "day_of_week -333830668571.09033\n",
      "wednesday -338570301199.347\n",
      "tuesday -672400969771.6447\n",
      "monday -1006231638342.5482\n"
     ]
    }
   ],
   "source": [
    "# test = pd.read_csv(\"data/test_expanded.csv\")\n",
    "output = pd.read_csv(\"data/bicikelj_test.csv\").copy()\n",
    "\n",
    "# Perform linear regression on all stations\n",
    "for station in stations[:2]:\n",
    "    station_df = train_station_dataframes[station]\n",
    "    X_train = station_df.drop([\"timestamp\", \"n_bikes\"], axis=1)\n",
    "    y_train = station_df[\"n_bikes\"]\n",
    "    \n",
    "    # X_test = pd.read_csv(f\"/data/stations/{station.replace('/', '_')}_test.csv\").drop([\"timestamp\"], axis=1)\n",
    "    X_test = test_station_dataframes[station].drop([\"timestamp\", \"n_bikes\"], axis=1)\n",
    "    \n",
    "    lr, y_pred = linear_regression(X_train, X_test, y_train)\n",
    "    m = lr.coef_.argsort()[::-1]\n",
    "    \n",
    "    for i in range(len(m)):\n",
    "        \n",
    "        print(X_train.columns[m[i]], lr.coef_[m[i]])\n",
    "    output[station] = y_pred\n",
    "    \n",
    "output.to_csv(\"data/output.csv\", index=False)\n",
    "    "
   ]
  },
  {
   "cell_type": "code",
   "execution_count": 169,
   "metadata": {},
   "outputs": [
    {
     "data": {
      "text/plain": [
       "dict_keys(['SUPERNOVA LJUBLJANA - RUDNIK'])"
      ]
     },
     "execution_count": 169,
     "metadata": {},
     "output_type": "execute_result"
    }
   ],
   "source": [
    "test_station_dataframes.keys()"
   ]
  },
  {
   "cell_type": "code",
   "execution_count": 146,
   "metadata": {},
   "outputs": [
    {
     "data": {
      "text/plain": [
       "['PREŠERNOV TRG-PETKOVŠKOVO NABREŽJE',\n",
       " 'POGAČARJEV TRG-TRŽNICA',\n",
       " 'KONGRESNI TRG-ŠUBIČEVA ULICA',\n",
       " 'CANKARJEVA UL.-NAMA',\n",
       " 'BREG',\n",
       " 'GRUDNOVO NABREŽJE-KARLOVŠKA C.',\n",
       " 'MIKLOŠIČEV PARK',\n",
       " 'BAVARSKI DVOR',\n",
       " 'TRG OF-KOLODVORSKA UL.',\n",
       " 'MASARYKOVA DDC',\n",
       " 'VILHARJEVA CESTA',\n",
       " 'PARK NAVJE-ŽELEZNA CESTA',\n",
       " 'TRG MDB',\n",
       " 'PARKIRIŠČE NUK 2-FF',\n",
       " 'AMBROŽEV TRG',\n",
       " 'GH ŠENTPETER-NJEGOŠEVA C.',\n",
       " 'ILIRSKA ULICA',\n",
       " 'TRŽAŠKA C.-ILIRIJA',\n",
       " 'TIVOLI',\n",
       " 'STARA CERKEV',\n",
       " 'KINO ŠIŠKA',\n",
       " 'ŠPICA',\n",
       " 'BARJANSKA C.-CENTER STAREJŠIH TRNOVO',\n",
       " 'ZALOŠKA C.-GRABLOVIČEVA C.',\n",
       " 'TRŽNICA MOSTE',\n",
       " 'ROŽNA DOLINA-ŠKRABČEVA UL.',\n",
       " 'DUNAJSKA C.-PS PETROL',\n",
       " 'PLEČNIKOV STADION',\n",
       " 'DUNAJSKA C.-PS MERCATOR',\n",
       " 'LIDL - VOJKOVA CESTA',\n",
       " 'ŠPORTNI CENTER STOŽICE',\n",
       " 'KOPRSKA ULICA',\n",
       " 'MERCATOR CENTER ŠIŠKA',\n",
       " 'CITYPARK',\n",
       " 'BTC CITY/DVORANA A',\n",
       " 'BTC CITY ATLANTIS',\n",
       " 'TRNOVO',\n",
       " 'P+R BARJE',\n",
       " 'P + R DOLGI MOST',\n",
       " 'BONIFACIJA',\n",
       " 'ANTONOV TRG',\n",
       " 'BRATOVŠEVA PLOŠČAD',\n",
       " 'BS4-STOŽICE',\n",
       " 'SAVSKO NASELJE 2-LINHARTOVA CESTA',\n",
       " 'SAVSKO NASELJE 1-ŠMARTINSKA CESTA',\n",
       " 'SITULA',\n",
       " 'ŠTEPANJSKO NASELJE 1-JAKČEVA ULICA',\n",
       " 'HOFER-KAJUHOVA',\n",
       " 'BRODARJEV TRG',\n",
       " 'PREGLOV TRG',\n",
       " 'LIDL-LITIJSKA CESTA',\n",
       " 'ŽIVALSKI VRT',\n",
       " 'CESTA NA ROŽNIK',\n",
       " 'ŠMARTINSKI PARK',\n",
       " 'POLJANSKA-POTOČNIKOVA',\n",
       " 'SREDNJA FRIZERSKA ŠOLA',\n",
       " 'POVŠETOVA-GRABLOVIČEVA',\n",
       " 'TRŽNICA KOSEZE',\n",
       " 'LIDL BEŽIGRAD',\n",
       " 'MERCATOR MARKET - CELOVŠKA C. 163',\n",
       " 'RAKOVNIK',\n",
       " 'ALEJA - CELOVŠKA CESTA',\n",
       " 'IKEA',\n",
       " 'KOPALIŠČE KOLEZIJA',\n",
       " 'VIŠKO POLJE',\n",
       " 'KOSEŠKI BAJER',\n",
       " 'DRAVLJE',\n",
       " 'ČRNUČE',\n",
       " 'STUDENEC',\n",
       " 'POLJE',\n",
       " 'ZALOG',\n",
       " 'LIDL - RUDNIK',\n",
       " 'PRUŠNIKOVA',\n",
       " 'POVŠETOVA - KAJUHOVA',\n",
       " 'SOSESKA NOVO BRDO',\n",
       " 'TEHNOLOŠKI PARK',\n",
       " 'VOJKOVA - GASILSKA BRIGADA',\n",
       " 'GERBIČEVA - ŠPORTNI PARK SVOBODA',\n",
       " 'DOLENJSKA C. - STRELIŠČE',\n",
       " 'ROŠKA - STRELIŠKA',\n",
       " 'LEK - VEROVŠKOVA',\n",
       " 'VOKA - SLOVENČEVA',\n",
       " 'SUPERNOVA LJUBLJANA - RUDNIK']"
      ]
     },
     "execution_count": 146,
     "metadata": {},
     "output_type": "execute_result"
    }
   ],
   "source": [
    "stations"
   ]
  },
  {
   "cell_type": "code",
   "execution_count": 109,
   "metadata": {},
   "outputs": [],
   "source": [
    "from sklearn.ensemble import RandomForestRegressor\n",
    "\n",
    "def random_forest(X_train, X_test, y_train, y_test):\n",
    "        # Fit model\n",
    "    rf = RandomForestRegressor()\n",
    "    # lr = Lasso(alpha=1)\n",
    "    rf.fit(X_train, y_train)\n",
    "\n",
    "    # Predict and score\n",
    "    y_pred = rf.predict(X_test)\n",
    "    \n",
    "    plt.scatter(y_test, y_pred)\n",
    "    \n",
    "    score = mean_squared_error(y_test, y_pred)\n",
    "    return rf, score"
   ]
  },
  {
   "cell_type": "code",
   "execution_count": null,
   "metadata": {},
   "outputs": [
    {
     "data": {
      "text/plain": [
       "tensor([[16.],\n",
       "        [19.],\n",
       "        [18.],\n",
       "        ...,\n",
       "        [13.],\n",
       "        [10.],\n",
       "        [14.]])"
      ]
     },
     "execution_count": 37,
     "metadata": {},
     "output_type": "execute_result"
    }
   ],
   "source": [
    "y_train"
   ]
  },
  {
   "cell_type": "code",
   "execution_count": 110,
   "metadata": {},
   "outputs": [
    {
     "data": {
      "text/plain": [
       "20.41267939079715"
      ]
     },
     "execution_count": 110,
     "metadata": {},
     "output_type": "execute_result"
    },
    {
     "data": {
      "image/png": "[encoded data removed]",
      "text/plain": [
       "<Figure size 640x480 with 1 Axes>"
      ]
     },
     "metadata": {},
     "output_type": "display_data"
    }
   ],
   "source": [
    "rf, score = random_forest(X_train, X_test, y_train, y_test)\n",
    "# plt.bar(len(rf.feature_importances_), rf.feature_importances_)\n",
    "score"
   ]
  },
  {
   "cell_type": "code",
   "execution_count": null,
   "metadata": {},
   "outputs": [],
   "source": [
    "# For each station get prediction for each timestamp and save to csv - note: don't forget to get the extra features"
   ]
  },
  {
   "cell_type": "code",
   "execution_count": 149,
   "metadata": {},
   "outputs": [],
   "source": [
    "X_train, y_train = train_station_dataframes[stations[0]].drop([\"timestamp\", \"n_bikes\"], axis=1), train_station_dataframes[stations[0]][\"n_bikes\"]\n",
    "X_test = test_station_dataframes[stations[0]].drop([\"timestamp\", \"n_bikes\"], axis=1)"
   ]
  },
  {
   "cell_type": "code",
   "execution_count": null,
   "metadata": {},
   "outputs": [],
   "source": [
    "# Train model for a single station\n",
    "custom_model = LinearRegression(X.shape[1], y.shape[1])"
   ]
  },
  {
   "cell_type": "code",
   "execution_count": null,
   "metadata": {},
   "outputs": [],
   "source": [
    "lr = 1e-5\n",
    "loss_fn = nn.MSELoss()\n",
    "optimizer = torch.optim.SGD(presernov_model.parameters(), lr=lr)\n",
    "n_epochs = 10000\n",
    "# scheduler = torch.optim.lr_scheduler.StepLR(optimizer, step_size=1000, gamma=.4+)"
   ]
  },
  {
   "cell_type": "code",
   "execution_count": null,
   "metadata": {},
   "outputs": [
    {
     "name": "stdout",
     "output_type": "stream",
     "text": [
      "Test loss: 23.70608139038086\n",
      "Epoch: 0, Train loss: 24.738100051879883\n",
      "Test loss: 23.705852508544922\n",
      "Epoch: 100, Train loss: 24.73807716369629\n",
      "Test loss: 23.70563507080078\n",
      "Epoch: 200, Train loss: 24.738052368164062\n",
      "Test loss: 23.705427169799805\n",
      "Epoch: 300, Train loss: 24.73802947998047\n",
      "Test loss: 23.705224990844727\n",
      "Epoch: 400, Train loss: 24.738008499145508\n",
      "Test loss: 23.70503807067871\n",
      "Epoch: 500, Train loss: 24.737985610961914\n",
      "Test loss: 23.70485496520996\n",
      "Epoch: 600, Train loss: 24.73796272277832\n",
      "Test loss: 23.704683303833008\n",
      "Epoch: 700, Train loss: 24.737943649291992\n",
      "Test loss: 23.70451545715332\n",
      "Epoch: 800, Train loss: 24.73792266845703\n",
      "Test loss: 23.7043514251709\n",
      "Epoch: 900, Train loss: 24.737899780273438\n",
      "Test loss: 23.70419692993164\n",
      "Epoch: 1000, Train loss: 24.73788070678711\n",
      "Test loss: 23.70404624938965\n",
      "Epoch: 1100, Train loss: 24.73785972595215\n",
      "Test loss: 23.703899383544922\n",
      "Epoch: 1200, Train loss: 24.737838745117188\n",
      "Test loss: 23.70375633239746\n",
      "Epoch: 1300, Train loss: 24.737815856933594\n",
      "Test loss: 23.703617095947266\n",
      "Epoch: 1400, Train loss: 24.737796783447266\n",
      "Test loss: 23.70348358154297\n",
      "Epoch: 1500, Train loss: 24.737775802612305\n",
      "Test loss: 23.703351974487305\n",
      "Epoch: 1600, Train loss: 24.737756729125977\n",
      "Test loss: 23.703222274780273\n",
      "Epoch: 1700, Train loss: 24.737733840942383\n",
      "Test loss: 23.703094482421875\n",
      "Epoch: 1800, Train loss: 24.737714767456055\n",
      "Test loss: 23.702970504760742\n",
      "Epoch: 1900, Train loss: 24.737695693969727\n",
      "Test loss: 23.702848434448242\n",
      "Epoch: 2000, Train loss: 24.737674713134766\n",
      "Test loss: 23.702728271484375\n",
      "Epoch: 2100, Train loss: 24.737653732299805\n",
      "Test loss: 23.702608108520508\n",
      "Epoch: 2200, Train loss: 24.737634658813477\n",
      "Test loss: 23.702491760253906\n",
      "Epoch: 2300, Train loss: 24.737613677978516\n",
      "Test loss: 23.70237922668457\n",
      "Epoch: 2400, Train loss: 24.737594604492188\n",
      "Test loss: 23.70226287841797\n",
      "Epoch: 2500, Train loss: 24.737573623657227\n",
      "Test loss: 23.702152252197266\n",
      "Epoch: 2600, Train loss: 24.737552642822266\n",
      "Test loss: 23.702043533325195\n",
      "Epoch: 2700, Train loss: 24.737533569335938\n",
      "Test loss: 23.701934814453125\n",
      "Epoch: 2800, Train loss: 24.737512588500977\n",
      "Test loss: 23.701828002929688\n",
      "Epoch: 2900, Train loss: 24.737491607666016\n",
      "Test loss: 23.70172119140625\n",
      "Epoch: 3000, Train loss: 24.737470626831055\n",
      "Test loss: 23.701618194580078\n",
      "Epoch: 3100, Train loss: 24.737449645996094\n",
      "Test loss: 23.701513290405273\n",
      "Epoch: 3200, Train loss: 24.7374324798584\n",
      "Test loss: 23.70140838623047\n",
      "Epoch: 3300, Train loss: 24.737411499023438\n",
      "Test loss: 23.701309204101562\n",
      "Epoch: 3400, Train loss: 24.737390518188477\n",
      "Test loss: 23.701204299926758\n",
      "Epoch: 3500, Train loss: 24.737367630004883\n",
      "Test loss: 23.701101303100586\n",
      "Epoch: 3600, Train loss: 24.737350463867188\n",
      "Test loss: 23.701000213623047\n",
      "Epoch: 3700, Train loss: 24.73733139038086\n",
      "Test loss: 23.700899124145508\n",
      "Epoch: 3800, Train loss: 24.7373104095459\n",
      "Test loss: 23.70079803466797\n",
      "Epoch: 3900, Train loss: 24.737289428710938\n",
      "Test loss: 23.700698852539062\n",
      "Epoch: 4000, Train loss: 24.73727035522461\n",
      "Test loss: 23.700603485107422\n",
      "Epoch: 4100, Train loss: 24.73724937438965\n",
      "Test loss: 23.70050048828125\n",
      "Epoch: 4200, Train loss: 24.737228393554688\n",
      "Test loss: 23.70040512084961\n",
      "Epoch: 4300, Train loss: 24.73720932006836\n",
      "Test loss: 23.700305938720703\n",
      "Epoch: 4400, Train loss: 24.7371883392334\n",
      "Test loss: 23.700206756591797\n",
      "Epoch: 4500, Train loss: 24.73716926574707\n",
      "Test loss: 23.700105667114258\n",
      "Epoch: 4600, Train loss: 24.73714828491211\n",
      "Test loss: 23.700010299682617\n",
      "Epoch: 4700, Train loss: 24.73712730407715\n",
      "Test loss: 23.699913024902344\n",
      "Epoch: 4800, Train loss: 24.73710823059082\n",
      "Test loss: 23.699819564819336\n",
      "Epoch: 4900, Train loss: 24.73708724975586\n",
      "Test loss: 23.699722290039062\n",
      "Epoch: 5000, Train loss: 24.7370662689209\n",
      "Test loss: 23.69962501525879\n",
      "Epoch: 5100, Train loss: 24.737049102783203\n",
      "Test loss: 23.69952964782715\n",
      "Epoch: 5200, Train loss: 24.737030029296875\n",
      "Test loss: 23.699432373046875\n",
      "Epoch: 5300, Train loss: 24.737009048461914\n",
      "Test loss: 23.699338912963867\n",
      "Epoch: 5400, Train loss: 24.736988067626953\n",
      "Test loss: 23.69924545288086\n",
      "Epoch: 5500, Train loss: 24.736968994140625\n",
      "Test loss: 23.69915199279785\n",
      "Epoch: 5600, Train loss: 24.736949920654297\n",
      "Test loss: 23.699058532714844\n",
      "Epoch: 5700, Train loss: 24.736927032470703\n",
      "Test loss: 23.69896125793457\n",
      "Epoch: 5800, Train loss: 24.736909866333008\n",
      "Test loss: 23.69886589050293\n",
      "Epoch: 5900, Train loss: 24.73689079284668\n",
      "Test loss: 23.69877052307129\n",
      "Epoch: 6000, Train loss: 24.736867904663086\n",
      "Test loss: 23.69867515563965\n",
      "Epoch: 6100, Train loss: 24.736848831176758\n",
      "Test loss: 23.69858169555664\n",
      "Epoch: 6200, Train loss: 24.73682975769043\n",
      "Test loss: 23.698488235473633\n",
      "Epoch: 6300, Train loss: 24.73680877685547\n",
      "Test loss: 23.698394775390625\n",
      "Epoch: 6400, Train loss: 24.736787796020508\n",
      "Test loss: 23.69830322265625\n",
      "Epoch: 6500, Train loss: 24.73676872253418\n",
      "Test loss: 23.698209762573242\n",
      "Epoch: 6600, Train loss: 24.73674774169922\n",
      "Test loss: 23.698116302490234\n",
      "Epoch: 6700, Train loss: 24.736730575561523\n",
      "Test loss: 23.69802474975586\n",
      "Epoch: 6800, Train loss: 24.736709594726562\n",
      "Test loss: 23.697935104370117\n",
      "Epoch: 6900, Train loss: 24.736692428588867\n",
      "Test loss: 23.697843551635742\n",
      "Epoch: 7000, Train loss: 24.736669540405273\n",
      "Test loss: 23.697751998901367\n",
      "Epoch: 7100, Train loss: 24.736652374267578\n",
      "Test loss: 23.697660446166992\n",
      "Epoch: 7200, Train loss: 24.736629486083984\n",
      "Test loss: 23.697568893432617\n",
      "Epoch: 7300, Train loss: 24.73661231994629\n",
      "Test loss: 23.697479248046875\n",
      "Epoch: 7400, Train loss: 24.736591339111328\n",
      "Test loss: 23.6973819732666\n",
      "Epoch: 7500, Train loss: 24.736570358276367\n",
      "Test loss: 23.697290420532227\n",
      "Epoch: 7600, Train loss: 24.73655128479004\n",
      "Test loss: 23.697200775146484\n",
      "Epoch: 7700, Train loss: 24.736530303955078\n",
      "Test loss: 23.69710922241211\n",
      "Epoch: 7800, Train loss: 24.736513137817383\n",
      "Test loss: 23.697017669677734\n",
      "Epoch: 7900, Train loss: 24.736492156982422\n",
      "Test loss: 23.69692611694336\n",
      "Epoch: 8000, Train loss: 24.73647117614746\n",
      "Test loss: 23.696836471557617\n",
      "Epoch: 8100, Train loss: 24.736454010009766\n",
      "Test loss: 23.696744918823242\n",
      "Epoch: 8200, Train loss: 24.736434936523438\n",
      "Test loss: 23.696653366088867\n",
      "Epoch: 8300, Train loss: 24.736413955688477\n",
      "Test loss: 23.696561813354492\n",
      "Epoch: 8400, Train loss: 24.736392974853516\n",
      "Test loss: 23.696470260620117\n",
      "Epoch: 8500, Train loss: 24.736373901367188\n",
      "Test loss: 23.696380615234375\n",
      "Epoch: 8600, Train loss: 24.73635482788086\n",
      "Test loss: 23.696290969848633\n",
      "Epoch: 8700, Train loss: 24.736337661743164\n",
      "Test loss: 23.696199417114258\n",
      "Epoch: 8800, Train loss: 24.736318588256836\n",
      "Test loss: 23.69611167907715\n",
      "Epoch: 8900, Train loss: 24.736295700073242\n",
      "Test loss: 23.696020126342773\n",
      "Epoch: 9000, Train loss: 24.736276626586914\n",
      "Test loss: 23.695932388305664\n",
      "Epoch: 9100, Train loss: 24.736257553100586\n",
      "Test loss: 23.695842742919922\n",
      "Epoch: 9200, Train loss: 24.736236572265625\n",
      "Test loss: 23.695751190185547\n",
      "Epoch: 9300, Train loss: 24.736215591430664\n",
      "Test loss: 23.695663452148438\n",
      "Epoch: 9400, Train loss: 24.736196517944336\n",
      "Test loss: 23.695571899414062\n",
      "Epoch: 9500, Train loss: 24.73617935180664\n",
      "Test loss: 23.695484161376953\n",
      "Epoch: 9600, Train loss: 24.73615837097168\n",
      "Test loss: 23.695392608642578\n",
      "Epoch: 9700, Train loss: 24.736141204833984\n",
      "Test loss: 23.6953067779541\n",
      "Epoch: 9800, Train loss: 24.736120223999023\n",
      "Test loss: 23.69521713256836\n",
      "Epoch: 9900, Train loss: 24.736099243164062\n"
     ]
    }
   ],
   "source": [
    "train_losses, test_losses, epochs = [], [], []\n",
    "\n",
    "epochs, train_losses, test_losses = model_train(X_train, X_test, y_train, y_test, presernov_model, loss_fn, optimizer, n_epochs, epochs, train_losses, test_losses)\n"
   ]
  },
  {
   "cell_type": "code",
   "execution_count": null,
   "metadata": {},
   "outputs": [
    {
     "data": {
      "image/png": "[encoded data removed]",
      "text/plain": [
       "<Figure size 640x480 with 1 Axes>"
      ]
     },
     "metadata": {},
     "output_type": "display_data"
    }
   ],
   "source": [
    "plot_loss(epochs, train_losses)"
   ]
  },
  {
   "cell_type": "code",
   "execution_count": null,
   "metadata": {},
   "outputs": [
    {
     "ename": "RuntimeError",
     "evalue": "mat1 and mat2 shapes cannot be multiplied (1x1543 and 8x1)",
     "output_type": "error",
     "traceback": [
      "\u001b[1;31m---------------------------------------------------------------------------\u001b[0m",
      "\u001b[1;31mRuntimeError\u001b[0m                              Traceback (most recent call last)",
      "Cell \u001b[1;32mIn[45], line 2\u001b[0m\n\u001b[0;32m      1\u001b[0m \u001b[39mwith\u001b[39;00m torch\u001b[39m.\u001b[39minference_mode():\n\u001b[1;32m----> 2\u001b[0m     y_pred \u001b[39m=\u001b[39m presernov_model(X_test[:, \u001b[39m0\u001b[39;49m]\u001b[39m.\u001b[39;49mto(device))\n\u001b[0;32m      3\u001b[0m     \u001b[39mprint\u001b[39m(y_pred\u001b[39m.\u001b[39mshape)\n\u001b[0;32m      4\u001b[0m     \u001b[39m# print(y_pred.cpu())\u001b[39;00m\n",
      "File \u001b[1;32mc:\\Users\\sebas\\miniconda3\\envs\\torch\\lib\\site-packages\\torch\\nn\\modules\\module.py:1501\u001b[0m, in \u001b[0;36mModule._call_impl\u001b[1;34m(self, *args, **kwargs)\u001b[0m\n\u001b[0;32m   1496\u001b[0m \u001b[39m# If we don't have any hooks, we want to skip the rest of the logic in\u001b[39;00m\n\u001b[0;32m   1497\u001b[0m \u001b[39m# this function, and just call forward.\u001b[39;00m\n\u001b[0;32m   1498\u001b[0m \u001b[39mif\u001b[39;00m \u001b[39mnot\u001b[39;00m (\u001b[39mself\u001b[39m\u001b[39m.\u001b[39m_backward_hooks \u001b[39mor\u001b[39;00m \u001b[39mself\u001b[39m\u001b[39m.\u001b[39m_backward_pre_hooks \u001b[39mor\u001b[39;00m \u001b[39mself\u001b[39m\u001b[39m.\u001b[39m_forward_hooks \u001b[39mor\u001b[39;00m \u001b[39mself\u001b[39m\u001b[39m.\u001b[39m_forward_pre_hooks\n\u001b[0;32m   1499\u001b[0m         \u001b[39mor\u001b[39;00m _global_backward_pre_hooks \u001b[39mor\u001b[39;00m _global_backward_hooks\n\u001b[0;32m   1500\u001b[0m         \u001b[39mor\u001b[39;00m _global_forward_hooks \u001b[39mor\u001b[39;00m _global_forward_pre_hooks):\n\u001b[1;32m-> 1501\u001b[0m     \u001b[39mreturn\u001b[39;00m forward_call(\u001b[39m*\u001b[39margs, \u001b[39m*\u001b[39m\u001b[39m*\u001b[39mkwargs)\n\u001b[0;32m   1502\u001b[0m \u001b[39m# Do not call functions when jit is used\u001b[39;00m\n\u001b[0;32m   1503\u001b[0m full_backward_hooks, non_full_backward_hooks \u001b[39m=\u001b[39m [], []\n",
      "Cell \u001b[1;32mIn[6], line 8\u001b[0m, in \u001b[0;36mLinearRegression.forward\u001b[1;34m(self, x)\u001b[0m\n\u001b[0;32m      7\u001b[0m \u001b[39mdef\u001b[39;00m \u001b[39mforward\u001b[39m(\u001b[39mself\u001b[39m, x):\n\u001b[1;32m----> 8\u001b[0m     \u001b[39mreturn\u001b[39;00m \u001b[39mself\u001b[39;49m\u001b[39m.\u001b[39;49mlinear(x)\n",
      "File \u001b[1;32mc:\\Users\\sebas\\miniconda3\\envs\\torch\\lib\\site-packages\\torch\\nn\\modules\\module.py:1501\u001b[0m, in \u001b[0;36mModule._call_impl\u001b[1;34m(self, *args, **kwargs)\u001b[0m\n\u001b[0;32m   1496\u001b[0m \u001b[39m# If we don't have any hooks, we want to skip the rest of the logic in\u001b[39;00m\n\u001b[0;32m   1497\u001b[0m \u001b[39m# this function, and just call forward.\u001b[39;00m\n\u001b[0;32m   1498\u001b[0m \u001b[39mif\u001b[39;00m \u001b[39mnot\u001b[39;00m (\u001b[39mself\u001b[39m\u001b[39m.\u001b[39m_backward_hooks \u001b[39mor\u001b[39;00m \u001b[39mself\u001b[39m\u001b[39m.\u001b[39m_backward_pre_hooks \u001b[39mor\u001b[39;00m \u001b[39mself\u001b[39m\u001b[39m.\u001b[39m_forward_hooks \u001b[39mor\u001b[39;00m \u001b[39mself\u001b[39m\u001b[39m.\u001b[39m_forward_pre_hooks\n\u001b[0;32m   1499\u001b[0m         \u001b[39mor\u001b[39;00m _global_backward_pre_hooks \u001b[39mor\u001b[39;00m _global_backward_hooks\n\u001b[0;32m   1500\u001b[0m         \u001b[39mor\u001b[39;00m _global_forward_hooks \u001b[39mor\u001b[39;00m _global_forward_pre_hooks):\n\u001b[1;32m-> 1501\u001b[0m     \u001b[39mreturn\u001b[39;00m forward_call(\u001b[39m*\u001b[39margs, \u001b[39m*\u001b[39m\u001b[39m*\u001b[39mkwargs)\n\u001b[0;32m   1502\u001b[0m \u001b[39m# Do not call functions when jit is used\u001b[39;00m\n\u001b[0;32m   1503\u001b[0m full_backward_hooks, non_full_backward_hooks \u001b[39m=\u001b[39m [], []\n",
      "File \u001b[1;32mc:\\Users\\sebas\\miniconda3\\envs\\torch\\lib\\site-packages\\torch\\nn\\modules\\linear.py:114\u001b[0m, in \u001b[0;36mLinear.forward\u001b[1;34m(self, input)\u001b[0m\n\u001b[0;32m    113\u001b[0m \u001b[39mdef\u001b[39;00m \u001b[39mforward\u001b[39m(\u001b[39mself\u001b[39m, \u001b[39minput\u001b[39m: Tensor) \u001b[39m-\u001b[39m\u001b[39m>\u001b[39m Tensor:\n\u001b[1;32m--> 114\u001b[0m     \u001b[39mreturn\u001b[39;00m F\u001b[39m.\u001b[39;49mlinear(\u001b[39minput\u001b[39;49m, \u001b[39mself\u001b[39;49m\u001b[39m.\u001b[39;49mweight, \u001b[39mself\u001b[39;49m\u001b[39m.\u001b[39;49mbias)\n",
      "\u001b[1;31mRuntimeError\u001b[0m: mat1 and mat2 shapes cannot be multiplied (1x1543 and 8x1)"
     ]
    }
   ],
   "source": [
    "with torch.inference_mode():\n",
    "    y_pred = presernov_model(X_test[:, 0].to(device))\n",
    "    print(y_pred.shape)\n",
    "    # print(y_pred.cpu())\n",
    "    print(y_pred.cpu().detach().numpy().shape)\n",
    "    \n",
    "    fig, ax = plt.subplots(1, 2, figsize=(20, 7))\n",
    "        \n",
    "    ax[0].plot(X_test[:, 0], y_pred.cpu().detach().numpy(), label=\"Predicted\")\n",
    "    ax[1].plot(X_test[:, 0], y_test.cpu().detach().numpy(), label=\"Real\")\n",
    "    ax[0].legend(), ax[1].legend()"
   ]
  }
 ],
 "metadata": {
  "kernelspec": {
   "display_name": "torch",
   "language": "python",
   "name": "python3"
  },
  "language_info": {
   "codemirror_mode": {
    "name": "ipython",
    "version": 3
   },
   "file_extension": ".py",
   "mimetype": "text/x-python",
   "name": "python",
   "nbconvert_exporter": "python",
   "pygments_lexer": "ipython3",
   "version": "3.9.16"
  },
  "orig_nbformat": 4
 },
 "nbformat": 4,
 "nbformat_minor": 2
}
