{
 "cells": [
  {
   "cell_type": "code",
   "execution_count": 1,
   "metadata": {},
   "outputs": [],
   "source": [
    "import pandas as pd\n",
    "import numpy as np"
   ]
  },
  {
   "cell_type": "code",
   "execution_count": 57,
   "metadata": {},
   "outputs": [],
   "source": [
    "train = pd.read_csv('data/processed_data.csv')\n",
    "test = pd.read_csv('data/bicikelj_test.csv')"
   ]
  },
  {
   "cell_type": "code",
   "execution_count": 58,
   "metadata": {},
   "outputs": [],
   "source": [
    "# Get list of stations\n",
    "stations = []\n",
    "for i in range(1, 84):\n",
    "    stations.append(train.columns[i])"
   ]
  },
  {
   "cell_type": "code",
   "execution_count": 59,
   "metadata": {},
   "outputs": [],
   "source": [
    "# For test set\n",
    "def find_closest_smaller_row(df, timestamp, hour_offset):\n",
    "    target_timestamp = pd.to_datetime(timestamp) - pd.DateOffset(hours=hour_offset)\n",
    "    df[\"timestamp\"] = pd.to_datetime(df[\"timestamp\"])\n",
    "            \n",
    "    smaller_rows = df[df[\"timestamp\"] <= target_timestamp]\n",
    "    if smaller_rows.empty:\n",
    "        return df.iloc[0,:]  # No smaller rows found\n",
    "    closest_index = np.abs(smaller_rows[\"timestamp\"] - target_timestamp).idxmin()\n",
    "    closest_row = df.loc[closest_index]\n",
    "    return closest_row\n",
    "\n",
    "# c_row = find_closest_smaller_row(train, \"timestamp\", train.iloc[13], 1)"
   ]
  },
  {
   "cell_type": "code",
   "execution_count": 60,
   "metadata": {},
   "outputs": [
    {
     "data": {
      "text/plain": [
       "'CANKARJEVA UL.-NAMA'"
      ]
     },
     "execution_count": 60,
     "metadata": {},
     "output_type": "execute_result"
    }
   ],
   "source": [
    "# Get n_bikes for each timestamp in test set\n",
    "test_station = stations[3]\n",
    "test_station"
   ]
  },
  {
   "cell_type": "code",
   "execution_count": 61,
   "metadata": {},
   "outputs": [
    {
     "data": {
      "text/plain": [
       "('2022-08-04 23:24:00', '2022-08-02 15:10:00')"
      ]
     },
     "execution_count": 61,
     "metadata": {},
     "output_type": "execute_result"
    }
   ],
   "source": [
    "test[\"timestamp\"][0], train[\"timestamp\"][0]"
   ]
  },
  {
   "cell_type": "code",
   "execution_count": 70,
   "metadata": {},
   "outputs": [],
   "source": [
    "# for station in stations:\n",
    "#     test[f\"{station}_2hr\"] = test[\"timestamp\"].apply(lambda time: find_closest_smaller_row(train, time, 2)[station])"
   ]
  },
  {
   "cell_type": "code",
   "execution_count": null,
   "metadata": {},
   "outputs": [],
   "source": []
  },
  {
   "cell_type": "code",
   "execution_count": 73,
   "metadata": {},
   "outputs": [
    {
     "name": "stderr",
     "output_type": "stream",
     "text": [
      "C:\\Users\\sebas\\AppData\\Local\\Temp\\ipykernel_3016\\656407860.py:4: PerformanceWarning: DataFrame is highly fragmented.  This is usually the result of calling `frame.insert` many times, which has poor performance.  Consider joining all columns at once using pd.concat(axis=1) instead. To get a de-fragmented frame, use `newframe = frame.copy()`\n",
      "  test[day] = (train[\"day_of_week\"] == i).astype(int)\n",
      "C:\\Users\\sebas\\AppData\\Local\\Temp\\ipykernel_3016\\656407860.py:4: PerformanceWarning: DataFrame is highly fragmented.  This is usually the result of calling `frame.insert` many times, which has poor performance.  Consider joining all columns at once using pd.concat(axis=1) instead. To get a de-fragmented frame, use `newframe = frame.copy()`\n",
      "  test[day] = (train[\"day_of_week\"] == i).astype(int)\n",
      "C:\\Users\\sebas\\AppData\\Local\\Temp\\ipykernel_3016\\656407860.py:4: PerformanceWarning: DataFrame is highly fragmented.  This is usually the result of calling `frame.insert` many times, which has poor performance.  Consider joining all columns at once using pd.concat(axis=1) instead. To get a de-fragmented frame, use `newframe = frame.copy()`\n",
      "  test[day] = (train[\"day_of_week\"] == i).astype(int)\n",
      "C:\\Users\\sebas\\AppData\\Local\\Temp\\ipykernel_3016\\656407860.py:4: PerformanceWarning: DataFrame is highly fragmented.  This is usually the result of calling `frame.insert` many times, which has poor performance.  Consider joining all columns at once using pd.concat(axis=1) instead. To get a de-fragmented frame, use `newframe = frame.copy()`\n",
      "  test[day] = (train[\"day_of_week\"] == i).astype(int)\n",
      "C:\\Users\\sebas\\AppData\\Local\\Temp\\ipykernel_3016\\656407860.py:4: PerformanceWarning: DataFrame is highly fragmented.  This is usually the result of calling `frame.insert` many times, which has poor performance.  Consider joining all columns at once using pd.concat(axis=1) instead. To get a de-fragmented frame, use `newframe = frame.copy()`\n",
      "  test[day] = (train[\"day_of_week\"] == i).astype(int)\n",
      "C:\\Users\\sebas\\AppData\\Local\\Temp\\ipykernel_3016\\656407860.py:4: PerformanceWarning: DataFrame is highly fragmented.  This is usually the result of calling `frame.insert` many times, which has poor performance.  Consider joining all columns at once using pd.concat(axis=1) instead. To get a de-fragmented frame, use `newframe = frame.copy()`\n",
      "  test[day] = (train[\"day_of_week\"] == i).astype(int)\n",
      "C:\\Users\\sebas\\AppData\\Local\\Temp\\ipykernel_3016\\656407860.py:4: PerformanceWarning: DataFrame is highly fragmented.  This is usually the result of calling `frame.insert` many times, which has poor performance.  Consider joining all columns at once using pd.concat(axis=1) instead. To get a de-fragmented frame, use `newframe = frame.copy()`\n",
      "  test[day] = (train[\"day_of_week\"] == i).astype(int)\n",
      "C:\\Users\\sebas\\AppData\\Local\\Temp\\ipykernel_3016\\656407860.py:9: PerformanceWarning: DataFrame is highly fragmented.  This is usually the result of calling `frame.insert` many times, which has poor performance.  Consider joining all columns at once using pd.concat(axis=1) instead. To get a de-fragmented frame, use `newframe = frame.copy()`\n",
      "  test[f\"hour_{i}\"] = (train[\"hour\"] == i).astype(int)\n",
      "C:\\Users\\sebas\\AppData\\Local\\Temp\\ipykernel_3016\\656407860.py:9: PerformanceWarning: DataFrame is highly fragmented.  This is usually the result of calling `frame.insert` many times, which has poor performance.  Consider joining all columns at once using pd.concat(axis=1) instead. To get a de-fragmented frame, use `newframe = frame.copy()`\n",
      "  test[f\"hour_{i}\"] = (train[\"hour\"] == i).astype(int)\n",
      "C:\\Users\\sebas\\AppData\\Local\\Temp\\ipykernel_3016\\656407860.py:9: PerformanceWarning: DataFrame is highly fragmented.  This is usually the result of calling `frame.insert` many times, which has poor performance.  Consider joining all columns at once using pd.concat(axis=1) instead. To get a de-fragmented frame, use `newframe = frame.copy()`\n",
      "  test[f\"hour_{i}\"] = (train[\"hour\"] == i).astype(int)\n",
      "C:\\Users\\sebas\\AppData\\Local\\Temp\\ipykernel_3016\\656407860.py:9: PerformanceWarning: DataFrame is highly fragmented.  This is usually the result of calling `frame.insert` many times, which has poor performance.  Consider joining all columns at once using pd.concat(axis=1) instead. To get a de-fragmented frame, use `newframe = frame.copy()`\n",
      "  test[f\"hour_{i}\"] = (train[\"hour\"] == i).astype(int)\n",
      "C:\\Users\\sebas\\AppData\\Local\\Temp\\ipykernel_3016\\656407860.py:9: PerformanceWarning: DataFrame is highly fragmented.  This is usually the result of calling `frame.insert` many times, which has poor performance.  Consider joining all columns at once using pd.concat(axis=1) instead. To get a de-fragmented frame, use `newframe = frame.copy()`\n",
      "  test[f\"hour_{i}\"] = (train[\"hour\"] == i).astype(int)\n",
      "C:\\Users\\sebas\\AppData\\Local\\Temp\\ipykernel_3016\\656407860.py:9: PerformanceWarning: DataFrame is highly fragmented.  This is usually the result of calling `frame.insert` many times, which has poor performance.  Consider joining all columns at once using pd.concat(axis=1) instead. To get a de-fragmented frame, use `newframe = frame.copy()`\n",
      "  test[f\"hour_{i}\"] = (train[\"hour\"] == i).astype(int)\n",
      "C:\\Users\\sebas\\AppData\\Local\\Temp\\ipykernel_3016\\656407860.py:9: PerformanceWarning: DataFrame is highly fragmented.  This is usually the result of calling `frame.insert` many times, which has poor performance.  Consider joining all columns at once using pd.concat(axis=1) instead. To get a de-fragmented frame, use `newframe = frame.copy()`\n",
      "  test[f\"hour_{i}\"] = (train[\"hour\"] == i).astype(int)\n",
      "C:\\Users\\sebas\\AppData\\Local\\Temp\\ipykernel_3016\\656407860.py:9: PerformanceWarning: DataFrame is highly fragmented.  This is usually the result of calling `frame.insert` many times, which has poor performance.  Consider joining all columns at once using pd.concat(axis=1) instead. To get a de-fragmented frame, use `newframe = frame.copy()`\n",
      "  test[f\"hour_{i}\"] = (train[\"hour\"] == i).astype(int)\n",
      "C:\\Users\\sebas\\AppData\\Local\\Temp\\ipykernel_3016\\656407860.py:9: PerformanceWarning: DataFrame is highly fragmented.  This is usually the result of calling `frame.insert` many times, which has poor performance.  Consider joining all columns at once using pd.concat(axis=1) instead. To get a de-fragmented frame, use `newframe = frame.copy()`\n",
      "  test[f\"hour_{i}\"] = (train[\"hour\"] == i).astype(int)\n",
      "C:\\Users\\sebas\\AppData\\Local\\Temp\\ipykernel_3016\\656407860.py:9: PerformanceWarning: DataFrame is highly fragmented.  This is usually the result of calling `frame.insert` many times, which has poor performance.  Consider joining all columns at once using pd.concat(axis=1) instead. To get a de-fragmented frame, use `newframe = frame.copy()`\n",
      "  test[f\"hour_{i}\"] = (train[\"hour\"] == i).astype(int)\n",
      "C:\\Users\\sebas\\AppData\\Local\\Temp\\ipykernel_3016\\656407860.py:9: PerformanceWarning: DataFrame is highly fragmented.  This is usually the result of calling `frame.insert` many times, which has poor performance.  Consider joining all columns at once using pd.concat(axis=1) instead. To get a de-fragmented frame, use `newframe = frame.copy()`\n",
      "  test[f\"hour_{i}\"] = (train[\"hour\"] == i).astype(int)\n",
      "C:\\Users\\sebas\\AppData\\Local\\Temp\\ipykernel_3016\\656407860.py:9: PerformanceWarning: DataFrame is highly fragmented.  This is usually the result of calling `frame.insert` many times, which has poor performance.  Consider joining all columns at once using pd.concat(axis=1) instead. To get a de-fragmented frame, use `newframe = frame.copy()`\n",
      "  test[f\"hour_{i}\"] = (train[\"hour\"] == i).astype(int)\n",
      "C:\\Users\\sebas\\AppData\\Local\\Temp\\ipykernel_3016\\656407860.py:9: PerformanceWarning: DataFrame is highly fragmented.  This is usually the result of calling `frame.insert` many times, which has poor performance.  Consider joining all columns at once using pd.concat(axis=1) instead. To get a de-fragmented frame, use `newframe = frame.copy()`\n",
      "  test[f\"hour_{i}\"] = (train[\"hour\"] == i).astype(int)\n",
      "C:\\Users\\sebas\\AppData\\Local\\Temp\\ipykernel_3016\\656407860.py:9: PerformanceWarning: DataFrame is highly fragmented.  This is usually the result of calling `frame.insert` many times, which has poor performance.  Consider joining all columns at once using pd.concat(axis=1) instead. To get a de-fragmented frame, use `newframe = frame.copy()`\n",
      "  test[f\"hour_{i}\"] = (train[\"hour\"] == i).astype(int)\n",
      "C:\\Users\\sebas\\AppData\\Local\\Temp\\ipykernel_3016\\656407860.py:9: PerformanceWarning: DataFrame is highly fragmented.  This is usually the result of calling `frame.insert` many times, which has poor performance.  Consider joining all columns at once using pd.concat(axis=1) instead. To get a de-fragmented frame, use `newframe = frame.copy()`\n",
      "  test[f\"hour_{i}\"] = (train[\"hour\"] == i).astype(int)\n",
      "C:\\Users\\sebas\\AppData\\Local\\Temp\\ipykernel_3016\\656407860.py:9: PerformanceWarning: DataFrame is highly fragmented.  This is usually the result of calling `frame.insert` many times, which has poor performance.  Consider joining all columns at once using pd.concat(axis=1) instead. To get a de-fragmented frame, use `newframe = frame.copy()`\n",
      "  test[f\"hour_{i}\"] = (train[\"hour\"] == i).astype(int)\n",
      "C:\\Users\\sebas\\AppData\\Local\\Temp\\ipykernel_3016\\656407860.py:9: PerformanceWarning: DataFrame is highly fragmented.  This is usually the result of calling `frame.insert` many times, which has poor performance.  Consider joining all columns at once using pd.concat(axis=1) instead. To get a de-fragmented frame, use `newframe = frame.copy()`\n",
      "  test[f\"hour_{i}\"] = (train[\"hour\"] == i).astype(int)\n",
      "C:\\Users\\sebas\\AppData\\Local\\Temp\\ipykernel_3016\\656407860.py:9: PerformanceWarning: DataFrame is highly fragmented.  This is usually the result of calling `frame.insert` many times, which has poor performance.  Consider joining all columns at once using pd.concat(axis=1) instead. To get a de-fragmented frame, use `newframe = frame.copy()`\n",
      "  test[f\"hour_{i}\"] = (train[\"hour\"] == i).astype(int)\n",
      "C:\\Users\\sebas\\AppData\\Local\\Temp\\ipykernel_3016\\656407860.py:9: PerformanceWarning: DataFrame is highly fragmented.  This is usually the result of calling `frame.insert` many times, which has poor performance.  Consider joining all columns at once using pd.concat(axis=1) instead. To get a de-fragmented frame, use `newframe = frame.copy()`\n",
      "  test[f\"hour_{i}\"] = (train[\"hour\"] == i).astype(int)\n",
      "C:\\Users\\sebas\\AppData\\Local\\Temp\\ipykernel_3016\\656407860.py:9: PerformanceWarning: DataFrame is highly fragmented.  This is usually the result of calling `frame.insert` many times, which has poor performance.  Consider joining all columns at once using pd.concat(axis=1) instead. To get a de-fragmented frame, use `newframe = frame.copy()`\n",
      "  test[f\"hour_{i}\"] = (train[\"hour\"] == i).astype(int)\n",
      "C:\\Users\\sebas\\AppData\\Local\\Temp\\ipykernel_3016\\656407860.py:9: PerformanceWarning: DataFrame is highly fragmented.  This is usually the result of calling `frame.insert` many times, which has poor performance.  Consider joining all columns at once using pd.concat(axis=1) instead. To get a de-fragmented frame, use `newframe = frame.copy()`\n",
      "  test[f\"hour_{i}\"] = (train[\"hour\"] == i).astype(int)\n",
      "C:\\Users\\sebas\\AppData\\Local\\Temp\\ipykernel_3016\\656407860.py:9: PerformanceWarning: DataFrame is highly fragmented.  This is usually the result of calling `frame.insert` many times, which has poor performance.  Consider joining all columns at once using pd.concat(axis=1) instead. To get a de-fragmented frame, use `newframe = frame.copy()`\n",
      "  test[f\"hour_{i}\"] = (train[\"hour\"] == i).astype(int)\n",
      "C:\\Users\\sebas\\AppData\\Local\\Temp\\ipykernel_3016\\656407860.py:9: PerformanceWarning: DataFrame is highly fragmented.  This is usually the result of calling `frame.insert` many times, which has poor performance.  Consider joining all columns at once using pd.concat(axis=1) instead. To get a de-fragmented frame, use `newframe = frame.copy()`\n",
      "  test[f\"hour_{i}\"] = (train[\"hour\"] == i).astype(int)\n",
      "C:\\Users\\sebas\\AppData\\Local\\Temp\\ipykernel_3016\\656407860.py:9: PerformanceWarning: DataFrame is highly fragmented.  This is usually the result of calling `frame.insert` many times, which has poor performance.  Consider joining all columns at once using pd.concat(axis=1) instead. To get a de-fragmented frame, use `newframe = frame.copy()`\n",
      "  test[f\"hour_{i}\"] = (train[\"hour\"] == i).astype(int)\n"
     ]
    }
   ],
   "source": [
    "days_of_week = [\"monday\", \"tuesday\", \"wednesday\", \"thursday\", \"friday\", \"saturday\", \"sunday\"]\n",
    "\n",
    "for i, day in enumerate(days_of_week):\n",
    "    test[day] = (train[\"day_of_week\"] == i).astype(int)\n",
    "\n",
    "\n",
    "hours = [i for i in range(24)]\n",
    "for i in hours:\n",
    "    test[f\"hour_{i}\"] = (train[\"hour\"] == i).astype(int)"
   ]
  },
  {
   "cell_type": "code",
   "execution_count": null,
   "metadata": {},
   "outputs": [],
   "source": []
  },
  {
   "cell_type": "code",
   "execution_count": 75,
   "metadata": {},
   "outputs": [],
   "source": [
    "test.to_csv(\"test_expanded.csv\", index=False)"
   ]
  }
 ],
 "metadata": {
  "kernelspec": {
   "display_name": "torch",
   "language": "python",
   "name": "python3"
  },
  "language_info": {
   "codemirror_mode": {
    "name": "ipython",
    "version": 3
   },
   "file_extension": ".py",
   "mimetype": "text/x-python",
   "name": "python",
   "nbconvert_exporter": "python",
   "pygments_lexer": "ipython3",
   "version": "3.9.16"
  },
  "orig_nbformat": 4
 },
 "nbformat": 4,
 "nbformat_minor": 2
}
